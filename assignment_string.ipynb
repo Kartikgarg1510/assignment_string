{
 "cells": [
  {
   "cell_type": "markdown",
   "id": "e0c390a4-a4df-4130-be0c-7e8e740b4af5",
   "metadata": {},
   "source": [
    "# 1. How do you concatenate two strings in Python?"
   ]
  },
  {
   "cell_type": "code",
   "execution_count": 1,
   "id": "4324b2ac-f79e-431c-95ea-a3b85cbdba55",
   "metadata": {},
   "outputs": [
    {
     "name": "stdout",
     "output_type": "stream",
     "text": [
      "Kartik Garg\n"
     ]
    }
   ],
   "source": [
    "first_name = \"Kartik\"\n",
    "last_name = \"Garg\"\n",
    "print(f\"{first_name} {last_name}\")"
   ]
  },
  {
   "cell_type": "code",
   "execution_count": 5,
   "id": "d4bac449-a8f6-44e8-82f1-3212300655cf",
   "metadata": {},
   "outputs": [
    {
     "name": "stdout",
     "output_type": "stream",
     "text": [
      "Kartik Garg\n"
     ]
    }
   ],
   "source": [
    "first_name = \"Kartik\"\n",
    "last_name = \"Garg\"\n",
    "print(\"{} {}\".format(first_name,last_name))"
   ]
  },
  {
   "cell_type": "code",
   "execution_count": 9,
   "id": "23c176f7-c739-4f2d-a1e2-34078bf617ee",
   "metadata": {},
   "outputs": [
    {
     "name": "stdout",
     "output_type": "stream",
     "text": [
      "Kartik Garg\n"
     ]
    }
   ],
   "source": [
    "first_name = \"Kartik\"\n",
    "last_name =  \"Garg\" \n",
    "\n",
    "print(\"%s %s\"%(first_name,last_name))"
   ]
  },
  {
   "cell_type": "markdown",
   "id": "10e04a0c-e18c-4891-9fe1-5b647c1b8adb",
   "metadata": {},
   "source": [
    "# 2. What is the difference between the + operator and the join() method for concatenating strings? "
   ]
  },
  {
   "cell_type": "code",
   "execution_count": 102,
   "id": "6e07f801-cf36-49be-95b7-bb2a92bb117c",
   "metadata": {},
   "outputs": [
    {
     "name": "stdout",
     "output_type": "stream",
     "text": [
      "Kartik Garg\n"
     ]
    }
   ],
   "source": [
    "first_name = \"Kartik\"\n",
    "last_name = \" Garg\"\n",
    "name = first_name + last_name\n",
    "print(name)                      # + operator: Concatenates two or more strings directly. It's simple but inefficient for many strings."
   ]
  },
  {
   "cell_type": "code",
   "execution_count": 104,
   "id": "4046fb38-ade1-498a-937d-2b3eda33fd19",
   "metadata": {},
   "outputs": [
    {
     "data": {
      "text/plain": [
       "' KartikgKartikaKartikrKartikg'"
      ]
     },
     "execution_count": 104,
     "metadata": {},
     "output_type": "execute_result"
    }
   ],
   "source": [
    "name = \"Kartik\"\n",
    "name.join(\" garg\")    #join() method: Efficiently concatenates elements of an iterable (like a list) into a single string, using a separator"
   ]
  },
  {
   "cell_type": "markdown",
   "id": "2beb62ec-4b44-40f3-88c8-febecf077cf8",
   "metadata": {},
   "source": [
    "# 3. How do you access individual characters in a string? \n"
   ]
  },
  {
   "cell_type": "code",
   "execution_count": 107,
   "id": "dc80db2d-4a75-44c9-a372-a8c2fd1b2eee",
   "metadata": {},
   "outputs": [],
   "source": [
    "# By calling them with thier index number"
   ]
  },
  {
   "cell_type": "code",
   "execution_count": 109,
   "id": "56eda66b-aebe-4147-9005-84bd0fd1e6fd",
   "metadata": {},
   "outputs": [
    {
     "data": {
      "text/plain": [
       "'p'"
      ]
     },
     "execution_count": 109,
     "metadata": {},
     "output_type": "execute_result"
    }
   ],
   "source": [
    "name = \"python\"\n",
    "name[0]"
   ]
  },
  {
   "cell_type": "code",
   "execution_count": 111,
   "id": "4ce1d1f7-1808-40e9-804d-15060e0a3442",
   "metadata": {},
   "outputs": [
    {
     "data": {
      "text/plain": [
       "'y'"
      ]
     },
     "execution_count": 111,
     "metadata": {},
     "output_type": "execute_result"
    }
   ],
   "source": [
    "name[1]"
   ]
  },
  {
   "cell_type": "markdown",
   "id": "485a67af-ebec-488a-b127-0b9ce68403a0",
   "metadata": {},
   "source": [
    "# 4. What method is used to find the length of a string in Python?\n"
   ]
  },
  {
   "cell_type": "code",
   "execution_count": 114,
   "id": "c3c411e4-0b03-4065-af4d-965caf09f60e",
   "metadata": {},
   "outputs": [
    {
     "data": {
      "text/plain": [
       "77"
      ]
     },
     "execution_count": 114,
     "metadata": {},
     "output_type": "execute_result"
    }
   ],
   "source": [
    "string = \"fiuewnfmdkncwehufhweoddnsdfuefudowdniweufuefnshdfefiwenfwensdocnsdoincweondwd\"\n",
    "len(string)                    # len()"
   ]
  },
  {
   "cell_type": "markdown",
   "id": "a2b41203-e619-4049-a828-267b83962561",
   "metadata": {},
   "source": [
    "#  5. How can you convert a string to uppercase in Python? \n"
   ]
  },
  {
   "cell_type": "code",
   "execution_count": 117,
   "id": "e434cdac-f433-4f46-88dd-243d48e25fe0",
   "metadata": {},
   "outputs": [
    {
     "data": {
      "text/plain": [
       "'PYTHON'"
      ]
     },
     "execution_count": 117,
     "metadata": {},
     "output_type": "execute_result"
    }
   ],
   "source": [
    "name = \"python\"\n",
    "name.upper()      #upper()"
   ]
  },
  {
   "cell_type": "markdown",
   "id": "4c0fe038-a7db-4df7-af33-40e2351ec368",
   "metadata": {},
   "source": [
    "# 6. How can you convert a string to lowercase in Python?\n"
   ]
  },
  {
   "cell_type": "code",
   "execution_count": 120,
   "id": "289b3abf-55d5-4288-b2e3-10608ec6b5fa",
   "metadata": {},
   "outputs": [
    {
     "data": {
      "text/plain": [
       "'python'"
      ]
     },
     "execution_count": 120,
     "metadata": {},
     "output_type": "execute_result"
    }
   ],
   "source": [
    "name = \"PYTHON\"\n",
    "name.lower()       #lower()"
   ]
  },
  {
   "cell_type": "markdown",
   "id": "2b56dd94-d3fc-477e-8b93-8b97525b0c04",
   "metadata": {},
   "source": [
    "# 7. What method is used to replace substrings within a string?"
   ]
  },
  {
   "cell_type": "code",
   "execution_count": 123,
   "id": "e6a60f5f-8cd6-4944-86fe-f933f1862de2",
   "metadata": {},
   "outputs": [
    {
     "data": {
      "text/plain": [
       "'then'"
      ]
     },
     "execution_count": 123,
     "metadata": {},
     "output_type": "execute_result"
    }
   ],
   "source": [
    "name = \"than\"\n",
    "name.replace(\"a\",\"e\")      # replace()"
   ]
  },
  {
   "cell_type": "markdown",
   "id": "a81396a2-1f93-4a7d-a337-5c972f8cf3d0",
   "metadata": {},
   "source": [
    "#  8. How can you split a string into a list of substrings based on a delimiter?\n"
   ]
  },
  {
   "cell_type": "code",
   "execution_count": 126,
   "id": "f242a86b-75f6-4b1a-9886-5c57f4aa36c7",
   "metadata": {},
   "outputs": [
    {
     "data": {
      "text/plain": [
       "['py', 'on']"
      ]
     },
     "execution_count": 126,
     "metadata": {},
     "output_type": "execute_result"
    }
   ],
   "source": [
    "name = \"python\"\n",
    "name.split(\"th\")      # split()"
   ]
  },
  {
   "cell_type": "markdown",
   "id": "d7924b9a-927a-48e0-8a57-69475a40404e",
   "metadata": {},
   "source": [
    "# 9. How do you check if a string starts with a particular substring? \n"
   ]
  },
  {
   "cell_type": "code",
   "execution_count": 129,
   "id": "802436fd-9f0a-4ab8-ba74-943d4ec2e9bf",
   "metadata": {},
   "outputs": [
    {
     "data": {
      "text/plain": [
       "True"
      ]
     },
     "execution_count": 129,
     "metadata": {},
     "output_type": "execute_result"
    }
   ],
   "source": [
    "name = \"python\"\n",
    "name.startswith(\"p\")    # otherwise false even if its captial"
   ]
  },
  {
   "cell_type": "markdown",
   "id": "31242df4-48f2-4e01-9273-d422ab384412",
   "metadata": {},
   "source": [
    "# 10. How do you check if a string ends with a particular substring?\n"
   ]
  },
  {
   "cell_type": "code",
   "execution_count": 132,
   "id": "c84019ea-d963-41c9-9b3e-d035c009aece",
   "metadata": {},
   "outputs": [
    {
     "data": {
      "text/plain": [
       "True"
      ]
     },
     "execution_count": 132,
     "metadata": {},
     "output_type": "execute_result"
    }
   ],
   "source": [
    "name = \"python\"\n",
    "name.endswith(\"n\")    # otherwise false even if its captial"
   ]
  },
  {
   "cell_type": "markdown",
   "id": "fef56080-0876-4d2f-847d-e86d32e44459",
   "metadata": {},
   "source": [
    "#  11. How can you remove leading and trailing whitespace from a string? \n"
   ]
  },
  {
   "cell_type": "code",
   "execution_count": 177,
   "id": "cf91ba68-b99e-4163-b41a-73e27ccde20f",
   "metadata": {},
   "outputs": [
    {
     "data": {
      "text/plain": [
       "'python'"
      ]
     },
     "execution_count": 177,
     "metadata": {},
     "output_type": "execute_result"
    }
   ],
   "source": [
    "name = \"      python                  \"\n",
    "name.strip()"
   ]
  },
  {
   "cell_type": "markdown",
   "id": "da61cc47-ba2c-4686-81bc-7de10f8b5f15",
   "metadata": {},
   "source": [
    "# 12. What method is used to find the index of the first occurrence of a substring within a string?\n"
   ]
  },
  {
   "cell_type": "code",
   "execution_count": 138,
   "id": "2a25702b-7c37-49af-8e71-53117ea1a9f9",
   "metadata": {},
   "outputs": [
    {
     "data": {
      "text/plain": [
       "7"
      ]
     },
     "execution_count": 138,
     "metadata": {},
     "output_type": "execute_result"
    }
   ],
   "source": [
    "name = \"python_java\"\n",
    "name.find(\"j\") "
   ]
  },
  {
   "cell_type": "markdown",
   "id": "c6070ecd-ce13-4a59-ae6b-8784bbd79b32",
   "metadata": {},
   "source": [
    "#  13. How can you count the number of occurrences of a substring within a string? \n"
   ]
  },
  {
   "cell_type": "code",
   "execution_count": 141,
   "id": "62c3610a-6cc9-4165-b29c-50b045f2c5a3",
   "metadata": {},
   "outputs": [
    {
     "data": {
      "text/plain": [
       "4"
      ]
     },
     "execution_count": 141,
     "metadata": {},
     "output_type": "execute_result"
    }
   ],
   "source": [
    "string = \"hello world I am learing Python\"\n",
    "string.count(\"l\")"
   ]
  },
  {
   "cell_type": "markdown",
   "id": "23f4ec30-884a-44bf-bbc4-9e162f9dffec",
   "metadata": {},
   "source": [
    "# 14. How do you check if a string contains only alphabetic characters?\n"
   ]
  },
  {
   "cell_type": "code",
   "execution_count": 144,
   "id": "e26d0a1d-412f-4b1b-965d-fd1af151faf9",
   "metadata": {},
   "outputs": [
    {
     "data": {
      "text/plain": [
       "True"
      ]
     },
     "execution_count": 144,
     "metadata": {},
     "output_type": "execute_result"
    }
   ],
   "source": [
    "string = \"HelloWorld\"\n",
    "string.isalpha()  # false if any other than alphabetic character include in the string"
   ]
  },
  {
   "cell_type": "markdown",
   "id": "07652280-6366-462c-9fc8-df7b71a1f512",
   "metadata": {},
   "source": [
    "# 15. How do you check if a string contains only numeric characters? "
   ]
  },
  {
   "cell_type": "code",
   "execution_count": 147,
   "id": "0cf11d69-e80a-4c46-8761-340185c5e565",
   "metadata": {},
   "outputs": [
    {
     "data": {
      "text/plain": [
       "True"
      ]
     },
     "execution_count": 147,
     "metadata": {},
     "output_type": "execute_result"
    }
   ],
   "source": [
    "string = \"123456789\"\n",
    "string.isnumeric()  # false if any other than numeric character contains in string"
   ]
  },
  {
   "cell_type": "markdown",
   "id": "28ec0a00-3f8e-427d-8313-a22989aa68d7",
   "metadata": {},
   "source": [
    "# 16. How can you check if a string is a palindrome? \n"
   ]
  },
  {
   "cell_type": "code",
   "execution_count": 150,
   "id": "a38b82ec-0263-434a-b245-8fb720ead305",
   "metadata": {},
   "outputs": [
    {
     "data": {
      "text/plain": [
       "False"
      ]
     },
     "execution_count": 150,
     "metadata": {},
     "output_type": "execute_result"
    }
   ],
   "source": [
    "string = \"python\"\n",
    "string == string[::-1]  "
   ]
  },
  {
   "cell_type": "code",
   "execution_count": 152,
   "id": "c06f6471-d224-4337-a9d6-c9e6dd7e4ca8",
   "metadata": {},
   "outputs": [
    {
     "data": {
      "text/plain": [
       "True"
      ]
     },
     "execution_count": 152,
     "metadata": {},
     "output_type": "execute_result"
    }
   ],
   "source": [
    "string = \"level\"\n",
    "string == string[::-1]"
   ]
  },
  {
   "cell_type": "markdown",
   "id": "409cd19a-72cc-4c40-990e-e7cc6da2ef16",
   "metadata": {},
   "source": [
    "#  17. How can you reverse a string in Python? \n"
   ]
  },
  {
   "cell_type": "code",
   "execution_count": 155,
   "id": "b126bdd7-0052-49c3-89cd-b7e467351f70",
   "metadata": {},
   "outputs": [
    {
     "data": {
      "text/plain": [
       "'nohtyp'"
      ]
     },
     "execution_count": 155,
     "metadata": {},
     "output_type": "execute_result"
    }
   ],
   "source": [
    "string = \"python\"\n",
    "string[::-1]     # by negative indexing"
   ]
  },
  {
   "cell_type": "markdown",
   "id": "62685c93-018d-4f16-b56f-04418a0b5588",
   "metadata": {},
   "source": [
    "#  18. How do you format a string with placeholders for variable values? \n"
   ]
  },
  {
   "cell_type": "code",
   "execution_count": 158,
   "id": "f1a1b4b3-4332-460b-acc1-36d727727451",
   "metadata": {},
   "outputs": [
    {
     "name": "stdout",
     "output_type": "stream",
     "text": [
      "Hello World\n"
     ]
    }
   ],
   "source": [
    "name = \"World\"\n",
    "print(\"Hello {}\".format(name))"
   ]
  },
  {
   "cell_type": "markdown",
   "id": "94f70731-e583-4260-ba87-1647f94f283d",
   "metadata": {},
   "source": [
    "#  19. How do you access a substring of a string using slicing? \n"
   ]
  },
  {
   "cell_type": "code",
   "execution_count": 161,
   "id": "bf61979a-c164-4949-bff4-2fcd88b01c26",
   "metadata": {},
   "outputs": [
    {
     "data": {
      "text/plain": [
       "'python'"
      ]
     },
     "execution_count": 161,
     "metadata": {},
     "output_type": "execute_result"
    }
   ],
   "source": [
    "name = \"python/java/c++\"\n",
    "name[0:6:]         # by using indexing method"
   ]
  },
  {
   "cell_type": "markdown",
   "id": "30048ec8-1a9f-4781-8428-3012b668c10d",
   "metadata": {},
   "source": [
    "# 20. How can you remove specific characters from a string in Python ?\n"
   ]
  },
  {
   "cell_type": "code",
   "execution_count": 1,
   "id": "15c34d9b-339a-4ef4-91b1-550ca99eaacd",
   "metadata": {},
   "outputs": [
    {
     "data": {
      "text/plain": [
       "'thon'"
      ]
     },
     "execution_count": 1,
     "metadata": {},
     "output_type": "execute_result"
    }
   ],
   "source": [
    "name = \"python\"\n",
    "name.removeprefix(\"py\") "
   ]
  },
  {
   "cell_type": "code",
   "execution_count": 5,
   "id": "2a0a267e-8cbb-486e-8e6c-828f0aed0d1f",
   "metadata": {},
   "outputs": [
    {
     "data": {
      "text/plain": [
       "'pyth'"
      ]
     },
     "execution_count": 5,
     "metadata": {},
     "output_type": "execute_result"
    }
   ],
   "source": [
    "name = \"python\"\n",
    "name.removesuffix(\"on\")"
   ]
  },
  {
   "cell_type": "code",
   "execution_count": 7,
   "id": "f61fe50a-572a-4748-a100-9353d4cccf2f",
   "metadata": {},
   "outputs": [
    {
     "data": {
      "text/plain": [
       "'I am learning Python'"
      ]
     },
     "execution_count": 7,
     "metadata": {},
     "output_type": "execute_result"
    }
   ],
   "source": [
    "name = \"Hello World I am learning Python\"\n",
    "name.removeprefix(\"Hello World \")"
   ]
  },
  {
   "cell_type": "code",
   "execution_count": null,
   "id": "311d2504-d818-43ef-9e67-a1d2299bed31",
   "metadata": {},
   "outputs": [],
   "source": []
  },
  {
   "cell_type": "code",
   "execution_count": null,
   "id": "0bec3bd8-319f-43b7-8bb0-b537dbd27ca0",
   "metadata": {},
   "outputs": [],
   "source": []
  },
  {
   "cell_type": "code",
   "execution_count": null,
   "id": "1c28b901-709d-44a9-93aa-7c17c6e81064",
   "metadata": {},
   "outputs": [],
   "source": []
  },
  {
   "cell_type": "code",
   "execution_count": null,
   "id": "91620634-66dd-4b94-b178-ae4191397a4b",
   "metadata": {},
   "outputs": [],
   "source": []
  },
  {
   "cell_type": "code",
   "execution_count": null,
   "id": "ffcdc40d-4d1d-4527-85d9-0b22e6d2d95c",
   "metadata": {},
   "outputs": [],
   "source": []
  },
  {
   "cell_type": "code",
   "execution_count": null,
   "id": "d490b899-bcc3-4810-8e34-eec4bf6aabfb",
   "metadata": {},
   "outputs": [],
   "source": []
  },
  {
   "cell_type": "code",
   "execution_count": null,
   "id": "ec208558-dee8-48e6-bcc2-16758bac6071",
   "metadata": {},
   "outputs": [],
   "source": []
  },
  {
   "cell_type": "code",
   "execution_count": null,
   "id": "2ed2efd7-fdf7-414f-a603-6c55b8ed1913",
   "metadata": {},
   "outputs": [],
   "source": []
  },
  {
   "cell_type": "code",
   "execution_count": null,
   "id": "fc5b85dd-a8d8-4f11-9274-9e5dd01d19fc",
   "metadata": {},
   "outputs": [],
   "source": []
  },
  {
   "cell_type": "code",
   "execution_count": null,
   "id": "f90cd85e-26bf-40d3-8ad3-e13334655c50",
   "metadata": {},
   "outputs": [],
   "source": []
  },
  {
   "cell_type": "code",
   "execution_count": null,
   "id": "42354adc-d1f0-48cc-ad26-c4634ceb6c86",
   "metadata": {},
   "outputs": [],
   "source": []
  },
  {
   "cell_type": "code",
   "execution_count": null,
   "id": "19904db3-98e9-4efb-a579-b8f745b13c8d",
   "metadata": {},
   "outputs": [],
   "source": []
  },
  {
   "cell_type": "code",
   "execution_count": null,
   "id": "ea5bd90c-d8c3-41d6-9f17-368b9f898e44",
   "metadata": {},
   "outputs": [],
   "source": []
  },
  {
   "cell_type": "code",
   "execution_count": null,
   "id": "dc7e302f-3608-482c-a225-80685a43d42b",
   "metadata": {},
   "outputs": [],
   "source": []
  },
  {
   "cell_type": "code",
   "execution_count": null,
   "id": "e67db657-9c8f-4b1d-8ae9-989b75a7123f",
   "metadata": {},
   "outputs": [],
   "source": []
  },
  {
   "cell_type": "code",
   "execution_count": null,
   "id": "5a66efab-b451-4e6c-a7d3-f100633023e3",
   "metadata": {},
   "outputs": [],
   "source": []
  },
  {
   "cell_type": "code",
   "execution_count": null,
   "id": "a85c9779-7c08-4c66-ad8a-25654d1cd776",
   "metadata": {},
   "outputs": [],
   "source": []
  },
  {
   "cell_type": "code",
   "execution_count": null,
   "id": "489e1369-a661-4881-8fa0-59ffc97507d1",
   "metadata": {},
   "outputs": [],
   "source": []
  },
  {
   "cell_type": "code",
   "execution_count": null,
   "id": "a809125c-4ac2-4e02-b3ab-c50c5072a9bd",
   "metadata": {},
   "outputs": [],
   "source": []
  },
  {
   "cell_type": "code",
   "execution_count": null,
   "id": "cf54db6b-35b9-4ce7-bdc5-77a72d7d6660",
   "metadata": {},
   "outputs": [],
   "source": []
  },
  {
   "cell_type": "code",
   "execution_count": null,
   "id": "cf9842f5-219e-47a7-b7d0-d2eb36e1fd08",
   "metadata": {},
   "outputs": [],
   "source": []
  },
  {
   "cell_type": "code",
   "execution_count": null,
   "id": "b4a4a7ed-e25d-40c8-a401-73beff699ff4",
   "metadata": {},
   "outputs": [],
   "source": []
  }
 ],
 "metadata": {
  "kernelspec": {
   "display_name": "Python [conda env:base] *",
   "language": "python",
   "name": "conda-base-py"
  },
  "language_info": {
   "codemirror_mode": {
    "name": "ipython",
    "version": 3
   },
   "file_extension": ".py",
   "mimetype": "text/x-python",
   "name": "python",
   "nbconvert_exporter": "python",
   "pygments_lexer": "ipython3",
   "version": "3.12.7"
  }
 },
 "nbformat": 4,
 "nbformat_minor": 5
}
